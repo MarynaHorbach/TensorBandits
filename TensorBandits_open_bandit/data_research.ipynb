{
 "cells": [
  {
   "cell_type": "code",
   "execution_count": 4,
   "metadata": {},
   "outputs": [
    {
     "ename": "NameError",
     "evalue": "name 'obp' is not defined",
     "output_type": "error",
     "traceback": [
      "\u001b[0;31m---------------------------------------------------------------------------\u001b[0m",
      "\u001b[0;31mNameError\u001b[0m                                 Traceback (most recent call last)",
      "Cell \u001b[0;32mIn[4], line 2\u001b[0m\n\u001b[1;32m      1\u001b[0m \u001b[38;5;66;03m# obp version\u001b[39;00m\n\u001b[0;32m----> 2\u001b[0m \u001b[38;5;28mprint\u001b[39m(\u001b[43mobp\u001b[49m\u001b[38;5;241m.\u001b[39m__version__)\n",
      "\u001b[0;31mNameError\u001b[0m: name 'obp' is not defined"
     ]
    }
   ],
   "source": []
  },
  {
   "cell_type": "code",
   "execution_count": 1,
   "metadata": {},
   "outputs": [
    {
     "name": "stderr",
     "output_type": "stream",
     "text": [
      "/home/maryna/anaconda3/envs/my_bandits_obp/lib/python3.9/site-packages/tqdm/auto.py:21: TqdmWarning: IProgress not found. Please update jupyter and ipywidgets. See https://ipywidgets.readthedocs.io/en/stable/user_install.html\n",
      "  from .autonotebook import tqdm as notebook_tqdm\n"
     ]
    }
   ],
   "source": [
    "import obp\n",
    "from obp.dataset import OpenBanditDataset"
   ]
  },
  {
   "cell_type": "code",
   "execution_count": 2,
   "metadata": {},
   "outputs": [
    {
     "name": "stdout",
     "output_type": "stream",
     "text": [
      "0.5.7\n"
     ]
    }
   ],
   "source": [
    "# obp version\n",
    "print(obp.__version__)"
   ]
  },
  {
   "cell_type": "code",
   "execution_count": 4,
   "metadata": {},
   "outputs": [],
   "source": [
    "from obp.simulator.simulator import BanditEnvironmentSimulator, BanditPolicySimulator\n",
    "from obp.dataset import logistic_sparse_reward_function"
   ]
  },
  {
   "cell_type": "code",
   "execution_count": 35,
   "metadata": {},
   "outputs": [
    {
     "name": "stderr",
     "output_type": "stream",
     "text": [
      "INFO:obp.dataset.real:When `data_path` is not given, this class downloads the small-sized version of Open Bandit Dataset.\n"
     ]
    }
   ],
   "source": [
    "dataset = OpenBanditDataset(behavior_policy=\"bts\", campaign=\"all\")"
   ]
  },
  {
   "cell_type": "code",
   "execution_count": 36,
   "metadata": {},
   "outputs": [],
   "source": [
    "data_dict = dataset.obtain_batch_bandit_feedback()"
   ]
  },
  {
   "cell_type": "code",
   "execution_count": 37,
   "metadata": {},
   "outputs": [
    {
     "data": {
      "text/plain": [
       "dict_keys(['n_rounds', 'n_actions', 'action', 'position', 'reward', 'pscore', 'context', 'action_context'])"
      ]
     },
     "execution_count": 37,
     "metadata": {},
     "output_type": "execute_result"
    }
   ],
   "source": [
    "data_dict.keys()"
   ]
  },
  {
   "cell_type": "code",
   "execution_count": 46,
   "metadata": {},
   "outputs": [
    {
     "data": {
      "text/plain": [
       "array([19, 41, 60, 60, 61, 45, 47, 58, 61,  8, 39, 47, 51, 41,  7, 43,  1,\n",
       "       59,  3, 43, 41, 18,  7,  7, 39, 35, 60, 52, 39, 35])"
      ]
     },
     "execution_count": 46,
     "metadata": {},
     "output_type": "execute_result"
    }
   ],
   "source": [
    "data_dict['action'][-30:]"
   ]
  },
  {
   "cell_type": "code",
   "execution_count": 47,
   "metadata": {},
   "outputs": [
    {
     "data": {
      "text/plain": [
       "array([1, 2, 0, 2, 2, 0, 1, 0, 1, 0, 2, 0, 1, 2, 0, 0, 0, 2, 0, 0, 1, 2,\n",
       "       1, 2, 2, 0, 0, 2, 2, 2])"
      ]
     },
     "execution_count": 47,
     "metadata": {},
     "output_type": "execute_result"
    }
   ],
   "source": [
    "data_dict['position'][-30:]"
   ]
  },
  {
   "cell_type": "code",
   "execution_count": 48,
   "metadata": {},
   "outputs": [
    {
     "data": {
      "text/plain": [
       "array([0.002455, 0.047465, 0.068955, 0.041455, 0.053745, 0.022405,\n",
       "       0.09077 , 0.06299 , 0.042735, 0.024285, 0.08808 , 0.052475,\n",
       "       0.02205 , 0.03372 , 0.169115, 0.03343 , 0.01746 , 0.095   ,\n",
       "       0.02189 , 0.025965, 0.01335 , 0.05156 , 0.157015, 0.11955 ,\n",
       "       0.1076  , 0.020135, 0.03303 , 0.00136 , 0.09762 , 0.031415])"
      ]
     },
     "execution_count": 48,
     "metadata": {},
     "output_type": "execute_result"
    }
   ],
   "source": [
    "data_dict['pscore'][-30:]"
   ]
  },
  {
   "cell_type": "code",
   "execution_count": 51,
   "metadata": {},
   "outputs": [
    {
     "data": {
      "text/plain": [
       "42"
      ]
     },
     "execution_count": 51,
     "metadata": {},
     "output_type": "execute_result"
    }
   ],
   "source": [
    "sum(data_dict['reward'])"
   ]
  },
  {
   "cell_type": "code",
   "execution_count": 52,
   "metadata": {},
   "outputs": [
    {
     "data": {
      "text/plain": [
       "10000"
      ]
     },
     "execution_count": 52,
     "metadata": {},
     "output_type": "execute_result"
    }
   ],
   "source": [
    "len(data_dict['reward'])"
   ]
  },
  {
   "cell_type": "code",
   "execution_count": 33,
   "metadata": {},
   "outputs": [],
   "source": [
    "dataset.load_raw_data()"
   ]
  },
  {
   "cell_type": "code",
   "execution_count": 34,
   "metadata": {},
   "outputs": [
    {
     "data": {
      "text/html": [
       "<div>\n",
       "<style scoped>\n",
       "    .dataframe tbody tr th:only-of-type {\n",
       "        vertical-align: middle;\n",
       "    }\n",
       "\n",
       "    .dataframe tbody tr th {\n",
       "        vertical-align: top;\n",
       "    }\n",
       "\n",
       "    .dataframe thead th {\n",
       "        text-align: right;\n",
       "    }\n",
       "</style>\n",
       "<table border=\"1\" class=\"dataframe\">\n",
       "  <thead>\n",
       "    <tr style=\"text-align: right;\">\n",
       "      <th></th>\n",
       "      <th>timestamp</th>\n",
       "      <th>item_id</th>\n",
       "      <th>position</th>\n",
       "      <th>click</th>\n",
       "      <th>propensity_score</th>\n",
       "      <th>user_feature_0</th>\n",
       "      <th>user_feature_1</th>\n",
       "      <th>user_feature_2</th>\n",
       "      <th>user_feature_3</th>\n",
       "      <th>user-item_affinity_0</th>\n",
       "      <th>...</th>\n",
       "      <th>user-item_affinity_70</th>\n",
       "      <th>user-item_affinity_71</th>\n",
       "      <th>user-item_affinity_72</th>\n",
       "      <th>user-item_affinity_73</th>\n",
       "      <th>user-item_affinity_74</th>\n",
       "      <th>user-item_affinity_75</th>\n",
       "      <th>user-item_affinity_76</th>\n",
       "      <th>user-item_affinity_77</th>\n",
       "      <th>user-item_affinity_78</th>\n",
       "      <th>user-item_affinity_79</th>\n",
       "    </tr>\n",
       "  </thead>\n",
       "  <tbody>\n",
       "    <tr>\n",
       "      <th>0</th>\n",
       "      <td>2019-11-24 00:00:34.762830+00:00</td>\n",
       "      <td>14</td>\n",
       "      <td>3</td>\n",
       "      <td>0</td>\n",
       "      <td>0.0125</td>\n",
       "      <td>81ce123cbb5bd8ce818f60fb3586bba5</td>\n",
       "      <td>03a5648a76832f83c859d46bc06cb64a</td>\n",
       "      <td>c2e4f76cdbabecd33b8c762aeef386b3</td>\n",
       "      <td>f97571b9c14a786aab269f0b427d2a85</td>\n",
       "      <td>0.0</td>\n",
       "      <td>...</td>\n",
       "      <td>0.0</td>\n",
       "      <td>0.0</td>\n",
       "      <td>0.0</td>\n",
       "      <td>0.0</td>\n",
       "      <td>0.0</td>\n",
       "      <td>0.0</td>\n",
       "      <td>0.0</td>\n",
       "      <td>0.0</td>\n",
       "      <td>0.0</td>\n",
       "      <td>0.0</td>\n",
       "    </tr>\n",
       "    <tr>\n",
       "      <th>1</th>\n",
       "      <td>2019-11-24 00:00:53.965051+00:00</td>\n",
       "      <td>14</td>\n",
       "      <td>3</td>\n",
       "      <td>0</td>\n",
       "      <td>0.0125</td>\n",
       "      <td>81ce123cbb5bd8ce818f60fb3586bba5</td>\n",
       "      <td>03a5648a76832f83c859d46bc06cb64a</td>\n",
       "      <td>2723d2eb8bba04e0362098011fa3997b</td>\n",
       "      <td>c39b0c7dd5d4eb9a18e7db6ba2f258f8</td>\n",
       "      <td>0.0</td>\n",
       "      <td>...</td>\n",
       "      <td>0.0</td>\n",
       "      <td>0.0</td>\n",
       "      <td>0.0</td>\n",
       "      <td>0.0</td>\n",
       "      <td>0.0</td>\n",
       "      <td>0.0</td>\n",
       "      <td>0.0</td>\n",
       "      <td>0.0</td>\n",
       "      <td>0.0</td>\n",
       "      <td>0.0</td>\n",
       "    </tr>\n",
       "    <tr>\n",
       "      <th>2</th>\n",
       "      <td>2019-11-24 00:00:56.727734+00:00</td>\n",
       "      <td>27</td>\n",
       "      <td>3</td>\n",
       "      <td>0</td>\n",
       "      <td>0.0125</td>\n",
       "      <td>81ce123cbb5bd8ce818f60fb3586bba5</td>\n",
       "      <td>03a5648a76832f83c859d46bc06cb64a</td>\n",
       "      <td>9b2d331c329ceb74d3dcfb48d8798c78</td>\n",
       "      <td>270b3e1c052b4f2e9c90bf0ebeb84f34</td>\n",
       "      <td>0.0</td>\n",
       "      <td>...</td>\n",
       "      <td>0.0</td>\n",
       "      <td>1.0</td>\n",
       "      <td>0.0</td>\n",
       "      <td>0.0</td>\n",
       "      <td>0.0</td>\n",
       "      <td>0.0</td>\n",
       "      <td>0.0</td>\n",
       "      <td>0.0</td>\n",
       "      <td>0.0</td>\n",
       "      <td>0.0</td>\n",
       "    </tr>\n",
       "    <tr>\n",
       "      <th>3</th>\n",
       "      <td>2019-11-24 00:02:17.189232+00:00</td>\n",
       "      <td>48</td>\n",
       "      <td>2</td>\n",
       "      <td>0</td>\n",
       "      <td>0.0125</td>\n",
       "      <td>81ce123cbb5bd8ce818f60fb3586bba5</td>\n",
       "      <td>03a5648a76832f83c859d46bc06cb64a</td>\n",
       "      <td>2723d2eb8bba04e0362098011fa3997b</td>\n",
       "      <td>c39b0c7dd5d4eb9a18e7db6ba2f258f8</td>\n",
       "      <td>0.0</td>\n",
       "      <td>...</td>\n",
       "      <td>0.0</td>\n",
       "      <td>0.0</td>\n",
       "      <td>0.0</td>\n",
       "      <td>0.0</td>\n",
       "      <td>0.0</td>\n",
       "      <td>0.0</td>\n",
       "      <td>0.0</td>\n",
       "      <td>0.0</td>\n",
       "      <td>0.0</td>\n",
       "      <td>0.0</td>\n",
       "    </tr>\n",
       "    <tr>\n",
       "      <th>4</th>\n",
       "      <td>2019-11-24 00:03:02.129117+00:00</td>\n",
       "      <td>36</td>\n",
       "      <td>2</td>\n",
       "      <td>0</td>\n",
       "      <td>0.0125</td>\n",
       "      <td>81ce123cbb5bd8ce818f60fb3586bba5</td>\n",
       "      <td>03a5648a76832f83c859d46bc06cb64a</td>\n",
       "      <td>c2e4f76cdbabecd33b8c762aeef386b3</td>\n",
       "      <td>f97571b9c14a786aab269f0b427d2a85</td>\n",
       "      <td>0.0</td>\n",
       "      <td>...</td>\n",
       "      <td>0.0</td>\n",
       "      <td>0.0</td>\n",
       "      <td>0.0</td>\n",
       "      <td>0.0</td>\n",
       "      <td>0.0</td>\n",
       "      <td>0.0</td>\n",
       "      <td>0.0</td>\n",
       "      <td>0.0</td>\n",
       "      <td>0.0</td>\n",
       "      <td>0.0</td>\n",
       "    </tr>\n",
       "    <tr>\n",
       "      <th>...</th>\n",
       "      <td>...</td>\n",
       "      <td>...</td>\n",
       "      <td>...</td>\n",
       "      <td>...</td>\n",
       "      <td>...</td>\n",
       "      <td>...</td>\n",
       "      <td>...</td>\n",
       "      <td>...</td>\n",
       "      <td>...</td>\n",
       "      <td>...</td>\n",
       "      <td>...</td>\n",
       "      <td>...</td>\n",
       "      <td>...</td>\n",
       "      <td>...</td>\n",
       "      <td>...</td>\n",
       "      <td>...</td>\n",
       "      <td>...</td>\n",
       "      <td>...</td>\n",
       "      <td>...</td>\n",
       "      <td>...</td>\n",
       "      <td>...</td>\n",
       "    </tr>\n",
       "    <tr>\n",
       "      <th>9995</th>\n",
       "      <td>2019-11-30 23:54:00.176333+00:00</td>\n",
       "      <td>2</td>\n",
       "      <td>2</td>\n",
       "      <td>0</td>\n",
       "      <td>0.0125</td>\n",
       "      <td>81ce123cbb5bd8ce818f60fb3586bba5</td>\n",
       "      <td>03a5648a76832f83c859d46bc06cb64a</td>\n",
       "      <td>2723d2eb8bba04e0362098011fa3997b</td>\n",
       "      <td>c39b0c7dd5d4eb9a18e7db6ba2f258f8</td>\n",
       "      <td>0.0</td>\n",
       "      <td>...</td>\n",
       "      <td>0.0</td>\n",
       "      <td>0.0</td>\n",
       "      <td>0.0</td>\n",
       "      <td>0.0</td>\n",
       "      <td>0.0</td>\n",
       "      <td>0.0</td>\n",
       "      <td>0.0</td>\n",
       "      <td>0.0</td>\n",
       "      <td>0.0</td>\n",
       "      <td>0.0</td>\n",
       "    </tr>\n",
       "    <tr>\n",
       "      <th>9996</th>\n",
       "      <td>2019-11-30 23:56:33.056370+00:00</td>\n",
       "      <td>45</td>\n",
       "      <td>2</td>\n",
       "      <td>0</td>\n",
       "      <td>0.0125</td>\n",
       "      <td>81ce123cbb5bd8ce818f60fb3586bba5</td>\n",
       "      <td>03a5648a76832f83c859d46bc06cb64a</td>\n",
       "      <td>719dab53a7560218a9d1f96b25d6fa32</td>\n",
       "      <td>c39b0c7dd5d4eb9a18e7db6ba2f258f8</td>\n",
       "      <td>0.0</td>\n",
       "      <td>...</td>\n",
       "      <td>0.0</td>\n",
       "      <td>0.0</td>\n",
       "      <td>0.0</td>\n",
       "      <td>0.0</td>\n",
       "      <td>0.0</td>\n",
       "      <td>0.0</td>\n",
       "      <td>0.0</td>\n",
       "      <td>0.0</td>\n",
       "      <td>0.0</td>\n",
       "      <td>0.0</td>\n",
       "    </tr>\n",
       "    <tr>\n",
       "      <th>9997</th>\n",
       "      <td>2019-11-30 23:56:56.226438+00:00</td>\n",
       "      <td>32</td>\n",
       "      <td>3</td>\n",
       "      <td>0</td>\n",
       "      <td>0.0125</td>\n",
       "      <td>cef3390ed299c09874189c387777674a</td>\n",
       "      <td>2d03db5543b14483e52d761760686b64</td>\n",
       "      <td>2723d2eb8bba04e0362098011fa3997b</td>\n",
       "      <td>f97571b9c14a786aab269f0b427d2a85</td>\n",
       "      <td>0.0</td>\n",
       "      <td>...</td>\n",
       "      <td>0.0</td>\n",
       "      <td>0.0</td>\n",
       "      <td>0.0</td>\n",
       "      <td>0.0</td>\n",
       "      <td>0.0</td>\n",
       "      <td>0.0</td>\n",
       "      <td>0.0</td>\n",
       "      <td>0.0</td>\n",
       "      <td>0.0</td>\n",
       "      <td>0.0</td>\n",
       "    </tr>\n",
       "    <tr>\n",
       "      <th>9998</th>\n",
       "      <td>2019-11-30 23:59:00.464926+00:00</td>\n",
       "      <td>13</td>\n",
       "      <td>2</td>\n",
       "      <td>0</td>\n",
       "      <td>0.0125</td>\n",
       "      <td>81ce123cbb5bd8ce818f60fb3586bba5</td>\n",
       "      <td>03a5648a76832f83c859d46bc06cb64a</td>\n",
       "      <td>7bc94a2da491829b777c49c4b5e480f2</td>\n",
       "      <td>9bde591ffaab8d54c457448e4dca6f53</td>\n",
       "      <td>0.0</td>\n",
       "      <td>...</td>\n",
       "      <td>0.0</td>\n",
       "      <td>0.0</td>\n",
       "      <td>0.0</td>\n",
       "      <td>0.0</td>\n",
       "      <td>0.0</td>\n",
       "      <td>0.0</td>\n",
       "      <td>0.0</td>\n",
       "      <td>0.0</td>\n",
       "      <td>0.0</td>\n",
       "      <td>0.0</td>\n",
       "    </tr>\n",
       "    <tr>\n",
       "      <th>9999</th>\n",
       "      <td>2019-11-30 23:59:47.022892+00:00</td>\n",
       "      <td>47</td>\n",
       "      <td>1</td>\n",
       "      <td>0</td>\n",
       "      <td>0.0125</td>\n",
       "      <td>cef3390ed299c09874189c387777674a</td>\n",
       "      <td>03a5648a76832f83c859d46bc06cb64a</td>\n",
       "      <td>2723d2eb8bba04e0362098011fa3997b</td>\n",
       "      <td>06128286bcc64b6a4b0fb7bc0328fe17</td>\n",
       "      <td>0.0</td>\n",
       "      <td>...</td>\n",
       "      <td>0.0</td>\n",
       "      <td>0.0</td>\n",
       "      <td>0.0</td>\n",
       "      <td>0.0</td>\n",
       "      <td>0.0</td>\n",
       "      <td>0.0</td>\n",
       "      <td>0.0</td>\n",
       "      <td>0.0</td>\n",
       "      <td>0.0</td>\n",
       "      <td>0.0</td>\n",
       "    </tr>\n",
       "  </tbody>\n",
       "</table>\n",
       "<p>10000 rows × 89 columns</p>\n",
       "</div>"
      ],
      "text/plain": [
       "                             timestamp  item_id  position  click  \\\n",
       "0     2019-11-24 00:00:34.762830+00:00       14         3      0   \n",
       "1     2019-11-24 00:00:53.965051+00:00       14         3      0   \n",
       "2     2019-11-24 00:00:56.727734+00:00       27         3      0   \n",
       "3     2019-11-24 00:02:17.189232+00:00       48         2      0   \n",
       "4     2019-11-24 00:03:02.129117+00:00       36         2      0   \n",
       "...                                ...      ...       ...    ...   \n",
       "9995  2019-11-30 23:54:00.176333+00:00        2         2      0   \n",
       "9996  2019-11-30 23:56:33.056370+00:00       45         2      0   \n",
       "9997  2019-11-30 23:56:56.226438+00:00       32         3      0   \n",
       "9998  2019-11-30 23:59:00.464926+00:00       13         2      0   \n",
       "9999  2019-11-30 23:59:47.022892+00:00       47         1      0   \n",
       "\n",
       "      propensity_score                    user_feature_0  \\\n",
       "0               0.0125  81ce123cbb5bd8ce818f60fb3586bba5   \n",
       "1               0.0125  81ce123cbb5bd8ce818f60fb3586bba5   \n",
       "2               0.0125  81ce123cbb5bd8ce818f60fb3586bba5   \n",
       "3               0.0125  81ce123cbb5bd8ce818f60fb3586bba5   \n",
       "4               0.0125  81ce123cbb5bd8ce818f60fb3586bba5   \n",
       "...                ...                               ...   \n",
       "9995            0.0125  81ce123cbb5bd8ce818f60fb3586bba5   \n",
       "9996            0.0125  81ce123cbb5bd8ce818f60fb3586bba5   \n",
       "9997            0.0125  cef3390ed299c09874189c387777674a   \n",
       "9998            0.0125  81ce123cbb5bd8ce818f60fb3586bba5   \n",
       "9999            0.0125  cef3390ed299c09874189c387777674a   \n",
       "\n",
       "                        user_feature_1                    user_feature_2  \\\n",
       "0     03a5648a76832f83c859d46bc06cb64a  c2e4f76cdbabecd33b8c762aeef386b3   \n",
       "1     03a5648a76832f83c859d46bc06cb64a  2723d2eb8bba04e0362098011fa3997b   \n",
       "2     03a5648a76832f83c859d46bc06cb64a  9b2d331c329ceb74d3dcfb48d8798c78   \n",
       "3     03a5648a76832f83c859d46bc06cb64a  2723d2eb8bba04e0362098011fa3997b   \n",
       "4     03a5648a76832f83c859d46bc06cb64a  c2e4f76cdbabecd33b8c762aeef386b3   \n",
       "...                                ...                               ...   \n",
       "9995  03a5648a76832f83c859d46bc06cb64a  2723d2eb8bba04e0362098011fa3997b   \n",
       "9996  03a5648a76832f83c859d46bc06cb64a  719dab53a7560218a9d1f96b25d6fa32   \n",
       "9997  2d03db5543b14483e52d761760686b64  2723d2eb8bba04e0362098011fa3997b   \n",
       "9998  03a5648a76832f83c859d46bc06cb64a  7bc94a2da491829b777c49c4b5e480f2   \n",
       "9999  03a5648a76832f83c859d46bc06cb64a  2723d2eb8bba04e0362098011fa3997b   \n",
       "\n",
       "                        user_feature_3  user-item_affinity_0  ...  \\\n",
       "0     f97571b9c14a786aab269f0b427d2a85                   0.0  ...   \n",
       "1     c39b0c7dd5d4eb9a18e7db6ba2f258f8                   0.0  ...   \n",
       "2     270b3e1c052b4f2e9c90bf0ebeb84f34                   0.0  ...   \n",
       "3     c39b0c7dd5d4eb9a18e7db6ba2f258f8                   0.0  ...   \n",
       "4     f97571b9c14a786aab269f0b427d2a85                   0.0  ...   \n",
       "...                                ...                   ...  ...   \n",
       "9995  c39b0c7dd5d4eb9a18e7db6ba2f258f8                   0.0  ...   \n",
       "9996  c39b0c7dd5d4eb9a18e7db6ba2f258f8                   0.0  ...   \n",
       "9997  f97571b9c14a786aab269f0b427d2a85                   0.0  ...   \n",
       "9998  9bde591ffaab8d54c457448e4dca6f53                   0.0  ...   \n",
       "9999  06128286bcc64b6a4b0fb7bc0328fe17                   0.0  ...   \n",
       "\n",
       "      user-item_affinity_70  user-item_affinity_71  user-item_affinity_72  \\\n",
       "0                       0.0                    0.0                    0.0   \n",
       "1                       0.0                    0.0                    0.0   \n",
       "2                       0.0                    1.0                    0.0   \n",
       "3                       0.0                    0.0                    0.0   \n",
       "4                       0.0                    0.0                    0.0   \n",
       "...                     ...                    ...                    ...   \n",
       "9995                    0.0                    0.0                    0.0   \n",
       "9996                    0.0                    0.0                    0.0   \n",
       "9997                    0.0                    0.0                    0.0   \n",
       "9998                    0.0                    0.0                    0.0   \n",
       "9999                    0.0                    0.0                    0.0   \n",
       "\n",
       "      user-item_affinity_73  user-item_affinity_74  user-item_affinity_75  \\\n",
       "0                       0.0                    0.0                    0.0   \n",
       "1                       0.0                    0.0                    0.0   \n",
       "2                       0.0                    0.0                    0.0   \n",
       "3                       0.0                    0.0                    0.0   \n",
       "4                       0.0                    0.0                    0.0   \n",
       "...                     ...                    ...                    ...   \n",
       "9995                    0.0                    0.0                    0.0   \n",
       "9996                    0.0                    0.0                    0.0   \n",
       "9997                    0.0                    0.0                    0.0   \n",
       "9998                    0.0                    0.0                    0.0   \n",
       "9999                    0.0                    0.0                    0.0   \n",
       "\n",
       "      user-item_affinity_76  user-item_affinity_77  user-item_affinity_78  \\\n",
       "0                       0.0                    0.0                    0.0   \n",
       "1                       0.0                    0.0                    0.0   \n",
       "2                       0.0                    0.0                    0.0   \n",
       "3                       0.0                    0.0                    0.0   \n",
       "4                       0.0                    0.0                    0.0   \n",
       "...                     ...                    ...                    ...   \n",
       "9995                    0.0                    0.0                    0.0   \n",
       "9996                    0.0                    0.0                    0.0   \n",
       "9997                    0.0                    0.0                    0.0   \n",
       "9998                    0.0                    0.0                    0.0   \n",
       "9999                    0.0                    0.0                    0.0   \n",
       "\n",
       "      user-item_affinity_79  \n",
       "0                       0.0  \n",
       "1                       0.0  \n",
       "2                       0.0  \n",
       "3                       0.0  \n",
       "4                       0.0  \n",
       "...                     ...  \n",
       "9995                    0.0  \n",
       "9996                    0.0  \n",
       "9997                    0.0  \n",
       "9998                    0.0  \n",
       "9999                    0.0  \n",
       "\n",
       "[10000 rows x 89 columns]"
      ]
     },
     "execution_count": 34,
     "metadata": {},
     "output_type": "execute_result"
    }
   ],
   "source": [
    "dataset.data"
   ]
  },
  {
   "cell_type": "code",
   "execution_count": 14,
   "metadata": {},
   "outputs": [
    {
     "name": "stdout",
     "output_type": "stream",
     "text": [
      "BanditRounds(n_rounds=1, n_actions=100, context=array([[-0.20470766]]), action_context=array([[1, 0, 0, ..., 0, 0, 0],\n",
      "       [0, 1, 0, ..., 0, 0, 0],\n",
      "       [0, 0, 1, ..., 0, 0, 0],\n",
      "       ...,\n",
      "       [0, 0, 0, ..., 1, 0, 0],\n",
      "       [0, 0, 0, ..., 0, 1, 0],\n",
      "       [0, 0, 0, ..., 0, 0, 1]]), rewards=array([[0, 1, 1, 1, 1, 0, 0, 1, 1, 1, 1, 1, 0, 1, 1, 0, 0, 1, 1, 1, 1, 1,\n",
      "        1, 1, 1, 1, 0, 1, 0, 1, 1, 0, 1, 0, 1, 0, 0, 0, 1, 0, 1, 0, 0, 1,\n",
      "        1, 0, 1, 1, 0, 1, 0, 0, 1, 0, 0, 1, 1, 0, 0, 0, 0, 1, 0, 0, 1, 1,\n",
      "        1, 0, 1, 1, 1, 1, 1, 0, 0, 0, 0, 0, 1, 1, 0, 0, 0, 0, 0, 0, 0, 1,\n",
      "        1, 1, 0, 0, 0, 1, 1, 1, 1, 0, 0, 1]]), expected_rewards=array([[9.03928491e-03, 9.91028197e-01, 9.34047508e-01, 4.55133958e-01,\n",
      "        4.46661881e-01, 6.29522063e-02, 5.70690551e-01, 8.85728049e-01,\n",
      "        9.96723238e-01, 4.74284430e-01, 9.96345349e-01, 8.73264872e-01,\n",
      "        4.46661881e-01, 9.81492077e-01, 4.46661881e-01, 8.58176753e-01,\n",
      "        7.47937956e-01, 9.99813771e-01, 9.61845186e-01, 9.95050452e-01,\n",
      "        9.89461877e-01, 9.74011646e-01, 6.77693212e-01, 4.46661881e-01,\n",
      "        4.46661881e-01, 3.28538781e-01, 1.71121776e-01, 6.41090345e-01,\n",
      "        2.80406943e-03, 8.83970823e-01, 2.97270387e-01, 6.20307895e-05,\n",
      "        9.99726535e-01, 4.79114554e-03, 4.46661881e-01, 1.01407076e-01,\n",
      "        9.12934167e-02, 1.81988345e-02, 9.83119479e-01, 4.46661881e-01,\n",
      "        9.21837975e-01, 4.21698136e-01, 3.28069825e-01, 8.34413603e-01,\n",
      "        9.19330056e-01, 5.49642681e-03, 9.49994074e-01, 5.40901146e-01,\n",
      "        4.46661881e-01, 9.93572098e-01, 1.88780151e-02, 9.13528252e-01,\n",
      "        4.46661881e-01, 6.49055876e-02, 4.46661881e-01, 9.95446001e-01,\n",
      "        4.46661881e-01, 7.84533592e-01, 3.95268675e-03, 3.14441551e-01,\n",
      "        1.49819575e-01, 6.81725763e-01, 2.29455197e-02, 1.47807816e-01,\n",
      "        8.77085635e-01, 4.46661881e-01, 9.96318595e-01, 6.12437473e-02,\n",
      "        9.65085134e-01, 7.01993886e-01, 5.41283478e-01, 9.97228951e-01,\n",
      "        5.49355496e-01, 8.07487238e-05, 1.91919958e-02, 9.02737628e-02,\n",
      "        8.45952751e-02, 7.64886868e-04, 4.46661881e-01, 9.25455401e-01,\n",
      "        7.73739065e-02, 5.27552493e-02, 4.46661881e-01, 1.01135703e-02,\n",
      "        1.07025187e-02, 4.46661881e-01, 9.35405112e-03, 8.64519497e-01,\n",
      "        9.58621770e-01, 9.23950877e-01, 4.98972659e-02, 2.34682531e-03,\n",
      "        4.46661881e-01, 4.21880267e-01, 9.89969872e-01, 1.95371228e-01,\n",
      "        1.14601544e-01, 2.39914294e-03, 4.46661881e-01, 6.66679824e-01]]), round_delays=None)\n"
     ]
    }
   ],
   "source": [
    "\n",
    "\n",
    "for n_rounds in experiment_round_size:\n",
    "    for experiment in range(n_runs_per_round_size):\n",
    "        training_bandit_batch = env.next_bandit_round_batch(n_rounds=n_rounds)\n",
    "        print(training_bandit_batch)\n",
    "        break"
   ]
  },
  {
   "cell_type": "code",
   "execution_count": null,
   "metadata": {},
   "outputs": [],
   "source": []
  }
 ],
 "metadata": {
  "kernelspec": {
   "display_name": "my_bandits",
   "language": "python",
   "name": "python3"
  },
  "language_info": {
   "codemirror_mode": {
    "name": "ipython",
    "version": 3
   },
   "file_extension": ".py",
   "mimetype": "text/x-python",
   "name": "python",
   "nbconvert_exporter": "python",
   "pygments_lexer": "ipython3",
   "version": "3.9.19"
  }
 },
 "nbformat": 4,
 "nbformat_minor": 2
}
